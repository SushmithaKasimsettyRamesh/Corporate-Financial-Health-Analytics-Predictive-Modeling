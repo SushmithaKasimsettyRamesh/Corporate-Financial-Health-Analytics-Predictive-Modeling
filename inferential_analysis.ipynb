{
  "nbformat": 4,
  "nbformat_minor": 0,
  "metadata": {
    "colab": {
      "provenance": []
    },
    "kernelspec": {
      "name": "python3",
      "display_name": "Python 3"
    },
    "language_info": {
      "name": "python"
    }
  },
  "cells": [
    {
      "cell_type": "code",
      "source": [
        "import pandas as pd\n",
        "import numpy as np\n",
        "import matplotlib.pyplot as plt\n",
        "import seaborn as sns"
      ],
      "metadata": {
        "id": "XW5yjkTd2aDm"
      },
      "execution_count": null,
      "outputs": []
    },
    {
      "cell_type": "code",
      "source": [
        "from google.colab import files\n",
        "\n",
        "uploaded = files.upload()  # Upload the file from your local machine\n",
        "df = pd.read_csv(\"financial_health_analysis_dataset.csv\")  # Replace with the name of your file\n"
      ],
      "metadata": {
        "colab": {
          "base_uri": "https://localhost:8080/",
          "height": 71
        },
        "id": "ZPMPeZFN2g3Z",
        "outputId": "5e7c04ed-6ad5-45f8-e4a7-07edb7589fd1"
      },
      "execution_count": null,
      "outputs": [
        {
          "output_type": "display_data",
          "data": {
            "text/plain": [
              "<IPython.core.display.HTML object>"
            ],
            "text/html": [
              "\n",
              "     <input type=\"file\" id=\"files-bce543c7-f52f-4d4b-9e1f-983e05bfa6d1\" name=\"files[]\" multiple disabled\n",
              "        style=\"border:none\" />\n",
              "     <output id=\"result-bce543c7-f52f-4d4b-9e1f-983e05bfa6d1\">\n",
              "      Upload widget is only available when the cell has been executed in the\n",
              "      current browser session. Please rerun this cell to enable.\n",
              "      </output>\n",
              "      <script>// Copyright 2017 Google LLC\n",
              "//\n",
              "// Licensed under the Apache License, Version 2.0 (the \"License\");\n",
              "// you may not use this file except in compliance with the License.\n",
              "// You may obtain a copy of the License at\n",
              "//\n",
              "//      http://www.apache.org/licenses/LICENSE-2.0\n",
              "//\n",
              "// Unless required by applicable law or agreed to in writing, software\n",
              "// distributed under the License is distributed on an \"AS IS\" BASIS,\n",
              "// WITHOUT WARRANTIES OR CONDITIONS OF ANY KIND, either express or implied.\n",
              "// See the License for the specific language governing permissions and\n",
              "// limitations under the License.\n",
              "\n",
              "/**\n",
              " * @fileoverview Helpers for google.colab Python module.\n",
              " */\n",
              "(function(scope) {\n",
              "function span(text, styleAttributes = {}) {\n",
              "  const element = document.createElement('span');\n",
              "  element.textContent = text;\n",
              "  for (const key of Object.keys(styleAttributes)) {\n",
              "    element.style[key] = styleAttributes[key];\n",
              "  }\n",
              "  return element;\n",
              "}\n",
              "\n",
              "// Max number of bytes which will be uploaded at a time.\n",
              "const MAX_PAYLOAD_SIZE = 100 * 1024;\n",
              "\n",
              "function _uploadFiles(inputId, outputId) {\n",
              "  const steps = uploadFilesStep(inputId, outputId);\n",
              "  const outputElement = document.getElementById(outputId);\n",
              "  // Cache steps on the outputElement to make it available for the next call\n",
              "  // to uploadFilesContinue from Python.\n",
              "  outputElement.steps = steps;\n",
              "\n",
              "  return _uploadFilesContinue(outputId);\n",
              "}\n",
              "\n",
              "// This is roughly an async generator (not supported in the browser yet),\n",
              "// where there are multiple asynchronous steps and the Python side is going\n",
              "// to poll for completion of each step.\n",
              "// This uses a Promise to block the python side on completion of each step,\n",
              "// then passes the result of the previous step as the input to the next step.\n",
              "function _uploadFilesContinue(outputId) {\n",
              "  const outputElement = document.getElementById(outputId);\n",
              "  const steps = outputElement.steps;\n",
              "\n",
              "  const next = steps.next(outputElement.lastPromiseValue);\n",
              "  return Promise.resolve(next.value.promise).then((value) => {\n",
              "    // Cache the last promise value to make it available to the next\n",
              "    // step of the generator.\n",
              "    outputElement.lastPromiseValue = value;\n",
              "    return next.value.response;\n",
              "  });\n",
              "}\n",
              "\n",
              "/**\n",
              " * Generator function which is called between each async step of the upload\n",
              " * process.\n",
              " * @param {string} inputId Element ID of the input file picker element.\n",
              " * @param {string} outputId Element ID of the output display.\n",
              " * @return {!Iterable<!Object>} Iterable of next steps.\n",
              " */\n",
              "function* uploadFilesStep(inputId, outputId) {\n",
              "  const inputElement = document.getElementById(inputId);\n",
              "  inputElement.disabled = false;\n",
              "\n",
              "  const outputElement = document.getElementById(outputId);\n",
              "  outputElement.innerHTML = '';\n",
              "\n",
              "  const pickedPromise = new Promise((resolve) => {\n",
              "    inputElement.addEventListener('change', (e) => {\n",
              "      resolve(e.target.files);\n",
              "    });\n",
              "  });\n",
              "\n",
              "  const cancel = document.createElement('button');\n",
              "  inputElement.parentElement.appendChild(cancel);\n",
              "  cancel.textContent = 'Cancel upload';\n",
              "  const cancelPromise = new Promise((resolve) => {\n",
              "    cancel.onclick = () => {\n",
              "      resolve(null);\n",
              "    };\n",
              "  });\n",
              "\n",
              "  // Wait for the user to pick the files.\n",
              "  const files = yield {\n",
              "    promise: Promise.race([pickedPromise, cancelPromise]),\n",
              "    response: {\n",
              "      action: 'starting',\n",
              "    }\n",
              "  };\n",
              "\n",
              "  cancel.remove();\n",
              "\n",
              "  // Disable the input element since further picks are not allowed.\n",
              "  inputElement.disabled = true;\n",
              "\n",
              "  if (!files) {\n",
              "    return {\n",
              "      response: {\n",
              "        action: 'complete',\n",
              "      }\n",
              "    };\n",
              "  }\n",
              "\n",
              "  for (const file of files) {\n",
              "    const li = document.createElement('li');\n",
              "    li.append(span(file.name, {fontWeight: 'bold'}));\n",
              "    li.append(span(\n",
              "        `(${file.type || 'n/a'}) - ${file.size} bytes, ` +\n",
              "        `last modified: ${\n",
              "            file.lastModifiedDate ? file.lastModifiedDate.toLocaleDateString() :\n",
              "                                    'n/a'} - `));\n",
              "    const percent = span('0% done');\n",
              "    li.appendChild(percent);\n",
              "\n",
              "    outputElement.appendChild(li);\n",
              "\n",
              "    const fileDataPromise = new Promise((resolve) => {\n",
              "      const reader = new FileReader();\n",
              "      reader.onload = (e) => {\n",
              "        resolve(e.target.result);\n",
              "      };\n",
              "      reader.readAsArrayBuffer(file);\n",
              "    });\n",
              "    // Wait for the data to be ready.\n",
              "    let fileData = yield {\n",
              "      promise: fileDataPromise,\n",
              "      response: {\n",
              "        action: 'continue',\n",
              "      }\n",
              "    };\n",
              "\n",
              "    // Use a chunked sending to avoid message size limits. See b/62115660.\n",
              "    let position = 0;\n",
              "    do {\n",
              "      const length = Math.min(fileData.byteLength - position, MAX_PAYLOAD_SIZE);\n",
              "      const chunk = new Uint8Array(fileData, position, length);\n",
              "      position += length;\n",
              "\n",
              "      const base64 = btoa(String.fromCharCode.apply(null, chunk));\n",
              "      yield {\n",
              "        response: {\n",
              "          action: 'append',\n",
              "          file: file.name,\n",
              "          data: base64,\n",
              "        },\n",
              "      };\n",
              "\n",
              "      let percentDone = fileData.byteLength === 0 ?\n",
              "          100 :\n",
              "          Math.round((position / fileData.byteLength) * 100);\n",
              "      percent.textContent = `${percentDone}% done`;\n",
              "\n",
              "    } while (position < fileData.byteLength);\n",
              "  }\n",
              "\n",
              "  // All done.\n",
              "  yield {\n",
              "    response: {\n",
              "      action: 'complete',\n",
              "    }\n",
              "  };\n",
              "}\n",
              "\n",
              "scope.google = scope.google || {};\n",
              "scope.google.colab = scope.google.colab || {};\n",
              "scope.google.colab._files = {\n",
              "  _uploadFiles,\n",
              "  _uploadFilesContinue,\n",
              "};\n",
              "})(self);\n",
              "</script> "
            ]
          },
          "metadata": {}
        },
        {
          "output_type": "stream",
          "name": "stdout",
          "text": [
            "Saving financial_health_analysis_dataset.csv to financial_health_analysis_dataset.csv\n"
          ]
        }
      ]
    },
    {
      "cell_type": "code",
      "source": [
        "import scipy.stats as stats\n",
        "\n",
        "\n",
        "\n",
        "\n",
        "print(df.head())  # Display first 5 rows\n",
        "\n",
        "# 'Date' column to datetime format\n",
        "df['Date'] = pd.to_datetime(df['Date'])\n",
        "\n",
        "# Group data by month and calculate mean profit per month\n",
        "df['Month'] = df['Date'].dt.to_period('M')\n",
        "monthly_profits = df.groupby('Month')['Profit'].mean()\n",
        "\n",
        "# Perform one-sample t-test\n",
        "benchmark = 10000  # Hypothetical threshold\n",
        "t_stat, p_value = stats.ttest_1samp(monthly_profits, benchmark, alternative='greater')\n",
        "\n",
        "print(f\"T-Statistic: {t_stat}\")\n",
        "print(f\"P-Value: {p_value}\")\n",
        "\n",
        "\n",
        "# Decision\n",
        "if p_value < 0.05:\n",
        "    print(\"Reject the null hypothesis: The average monthly profit is significantly greater than $10,000.\")\n",
        "else:\n",
        "    print(\"Fail to reject the null hypothesis: Not enough evidence to conclude the average monthly profit is greater than $10,000.\")"
      ],
      "metadata": {
        "colab": {
          "base_uri": "https://localhost:8080/"
        },
        "id": "--D9Ifja2muX",
        "outputId": "2939d697-f202-4230-8563-b9d71ff63ed1"
      },
      "execution_count": null,
      "outputs": [
        {
          "output_type": "stream",
          "name": "stdout",
          "text": [
            "         Date  Revenue  Expenses  Profit  Cash Flow   Debt  Assets  \\\n",
            "0  2000-01-01    91910     56996   34914      36583  37428   50606   \n",
            "1  2000-01-02    76044     17614   58430      57621  15068  143451   \n",
            "2  2000-01-03    87214     49647   37567      42285  20229   67733   \n",
            "3  2000-01-04    53827     72940  -19113     -16957  33478   90394   \n",
            "4  2000-01-05    75820     15620   60200      63913  21908  110797   \n",
            "\n",
            "   Liabilities  Marketing Spend  Employee Count  Tax Paid  Operational Cost  \n",
            "0        50085            14159             278      7633          42235.94  \n",
            "1        53894            12173             346     11913          12960.62  \n",
            "2        30019            15107             379     11490          39471.72  \n",
            "3        53827            17132             444      3905          56926.27  \n",
            "4        28184            14723             220     13197          12298.48  \n",
            "T-Statistic: 10.933663259775107\n",
            "P-Value: 5.561837774300692e-26\n",
            "Reject the null hypothesis: The average monthly profit is significantly greater than $10,000.\n"
          ]
        }
      ]
    },
    {
      "cell_type": "code",
      "source": [
        "# Perform a paired t-test\n",
        "t_stat, p_value = stats.ttest_rel(df['Revenue'], df['Expenses'])\n",
        "\n",
        "# Print results\n",
        "print(f\"T-Statistic: {t_stat}\")\n",
        "print(f\"P-Value: {p_value}\")\n",
        "\n",
        "# Decision\n",
        "alpha = 0.05  # Significance level\n",
        "if p_value < alpha:\n",
        "    print(\"Reject the null hypothesis: The average revenue and expenses are significantly different.\")\n",
        "else:\n",
        "    print(\"Fail to reject the null hypothesis: There is no significant difference between average revenue and expenses.\")"
      ],
      "metadata": {
        "colab": {
          "base_uri": "https://localhost:8080/"
        },
        "id": "LylS8kAV8pEl",
        "outputId": "e1517040-cc7e-4216-bae1-c2d4e2804d55"
      },
      "execution_count": null,
      "outputs": [
        {
          "output_type": "stream",
          "name": "stdout",
          "text": [
            "T-Statistic: 58.090382866449985\n",
            "P-Value: 0.0\n",
            "Reject the null hypothesis: The average revenue and expenses are significantly different.\n"
          ]
        }
      ]
    },
    {
      "cell_type": "code",
      "source": [
        "\n",
        "mean_revenue = df['Revenue'].mean()\n",
        "mean_expenses = df['Expenses'].mean()\n",
        "\n",
        "# Perform a paired t-test\n",
        "t_stat, p_value = stats.ttest_rel(df['Revenue'], df['Expenses'])\n",
        "\n",
        "# Print results\n",
        "print(f\"Average Revenue: {mean_revenue}\")\n",
        "print(f\"Average Expenses: {mean_expenses}\")\n",
        "print(f\"T-Statistic: {t_stat}\")\n",
        "print(f\"P-Value: {p_value}\")\n",
        "\n",
        "# Decision\n",
        "alpha = 0.05  # Significance level\n",
        "if p_value < alpha:\n",
        "    print(\"Reject the null hypothesis: The average revenue and expenses are significantly different.\")\n",
        "    # Check which one is greater\n",
        "    if mean_revenue > mean_expenses:\n",
        "        print(\"Revenue is significantly higher than expenses.\")\n",
        "    else:\n",
        "        print(\"Expenses are significantly higher than revenue.\")\n",
        "else:\n",
        "    print(\"Fail to reject the null hypothesis: No significant difference between revenue and expenses.\")"
      ],
      "metadata": {
        "colab": {
          "base_uri": "https://localhost:8080/"
        },
        "id": "jR4yVp5Q9BWS",
        "outputId": "c95a7ab7-602e-4d74-d761-21128d7c4f98"
      },
      "execution_count": null,
      "outputs": [
        {
          "output_type": "stream",
          "name": "stdout",
          "text": [
            "Average Revenue: 59508.5451\n",
            "Average Expenses: 47249.8364\n",
            "T-Statistic: 58.090382866449985\n",
            "P-Value: 0.0\n",
            "Reject the null hypothesis: The average revenue and expenses are significantly different.\n",
            "Revenue is significantly higher than expenses.\n"
          ]
        }
      ]
    },
    {
      "cell_type": "code",
      "source": [
        "from scipy import stats\n",
        "\n",
        "t_stat, p_value = stats.ttest_1samp(df['Revenue'], 50000)\n",
        "\n",
        "print(f\"T-Statistic: {t_stat}\")\n",
        "print(f\"P-Value: {p_value}\")\n",
        "\n",
        "if p_value < 0.05:\n",
        "    print(\"Reject the null hypothesis: The average revenue is significantly different from $50,000.\")\n",
        "else:\n",
        "    print(\"Fail to reject the null hypothesis: No significant difference from $50,000.\")\n"
      ],
      "metadata": {
        "colab": {
          "base_uri": "https://localhost:8080/"
        },
        "id": "F0FmeMVid7sN",
        "outputId": "43cefc19-6f75-4e86-eefa-02006e8d8903"
      },
      "execution_count": null,
      "outputs": [
        {
          "output_type": "stream",
          "name": "stdout",
          "text": [
            "T-Statistic: 57.938805660416534\n",
            "P-Value: 0.0\n",
            "Reject the null hypothesis: The average revenue is significantly different from $50,000.\n"
          ]
        }
      ]
    },
    {
      "cell_type": "code",
      "source": [
        "df['Revenue'].mean()\n"
      ],
      "metadata": {
        "colab": {
          "base_uri": "https://localhost:8080/"
        },
        "id": "ftv4SGEmgLzL",
        "outputId": "cfe52f82-c512-42af-c98c-e1a9c94376fa"
      },
      "execution_count": null,
      "outputs": [
        {
          "output_type": "execute_result",
          "data": {
            "text/plain": [
              "59508.5451"
            ]
          },
          "metadata": {},
          "execution_count": 7
        }
      ]
    },
    {
      "cell_type": "code",
      "source": [
        "t_stat, p_value = stats.ttest_rel(df['Revenue'], df['Expenses'])\n",
        "\n",
        "print(f\"T-Statistic: {t_stat}\")\n",
        "print(f\"P-Value: {p_value}\")\n",
        "\n",
        "if p_value < 0.05:\n",
        "    print(\"Reject the null hypothesis: Revenue and expenses are significantly different.\")\n",
        "else:\n",
        "    print(\"Fail to reject the null hypothesis: No significant difference between revenue and expenses.\")\n"
      ],
      "metadata": {
        "colab": {
          "base_uri": "https://localhost:8080/"
        },
        "id": "5enO9HN46vXH",
        "outputId": "a0c8c850-ba4d-40b6-96f8-18bbb77d9779"
      },
      "execution_count": null,
      "outputs": [
        {
          "output_type": "stream",
          "name": "stdout",
          "text": [
            "T-Statistic: 58.090382866449985\n",
            "P-Value: 0.0\n",
            "Reject the null hypothesis: Revenue and expenses are significantly different.\n"
          ]
        }
      ]
    },
    {
      "cell_type": "code",
      "source": [
        "print(df['Revenue'].mean() - df['Expenses'].mean())\n"
      ],
      "metadata": {
        "colab": {
          "base_uri": "https://localhost:8080/"
        },
        "id": "GUWubfZG7LQw",
        "outputId": "2fcb531b-5191-4aaf-fee3-1112d97c97de"
      },
      "execution_count": null,
      "outputs": [
        {
          "output_type": "stream",
          "name": "stdout",
          "text": [
            "12258.708700000003\n"
          ]
        }
      ]
    },
    {
      "cell_type": "code",
      "source": [
        "from scipy import stats\n",
        "\n",
        "# Null Hypothesis (H0): Average Profit = 0\n",
        "# Alternative Hypothesis (H1): Average Profit > 0\n",
        "\n",
        "t_stat, p_value = stats.ttest_1samp(df['Profit'], 0)\n",
        "\n",
        "print(f\"T-Statistic: {t_stat}\")\n",
        "print(f\"P-Value: {p_value}\")\n",
        "\n",
        "# Decision\n",
        "if p_value < 0.05 and t_stat > 0:\n",
        "    print(\"Reject the null hypothesis: The business is consistently profitable.\")\n",
        "else:\n",
        "    print(\"Fail to reject the null hypothesis: The business is NOT consistently profitable.\")\n"
      ],
      "metadata": {
        "colab": {
          "base_uri": "https://localhost:8080/"
        },
        "id": "yWobf0Ig7Z8z",
        "outputId": "258105ec-2178-4820-c4ce-451d870c6572"
      },
      "execution_count": null,
      "outputs": [
        {
          "output_type": "stream",
          "name": "stdout",
          "text": [
            "T-Statistic: 58.090382866449985\n",
            "P-Value: 0.0\n",
            "Reject the null hypothesis: The business is consistently profitable.\n"
          ]
        }
      ]
    },
    {
      "cell_type": "markdown",
      "source": [
        "Summary of Hypothesis Testing Results\n",
        "One-Sample t-Test: Average Monthly Profit vs. $10,000 Benchmark\n",
        "Hypothesis:\n",
        "Null: The average monthly profit is equal to 10,000.\n",
        "Alternative: The average monthly profit is greater than 10,000.\n",
        "Results:\n",
        "T-Statistic: 10.93\n",
        "P-Value: 5.56e-26 (close to zero, highly significant)\n",
        "Conclusion: The null hypothesis is rejected, indicating that the average profit is significantly higher than 10,000.\n",
        "Two-Sample t-Test: Comparison of Average Revenue and Expenses\n",
        "Hypothesis:\n",
        "Null: Revenue and expenses are equal.\n",
        "Alternative: Revenue and expenses are different.\n",
        "Results:\n",
        "T-Statistic: 58.09\n",
        "P-Value: 0.0 (highly significant)\n",
        "Conclusion: The null hypothesis is rejected, showing a significant difference between revenue and expenses. On average, revenue exceeds expenses by 12,258.71.\n",
        "One-Sample t-Test: Business Profitability Assessment\n",
        "Hypothesis:\n",
        "Null: The average profit is zero.\n",
        "Alternative: The average profit is greater than zero.\n",
        "Results:\n",
        "T-Statistic: 58.09\n",
        "P-Value: 0.0 (highly significant)\n",
        "Conclusion: The null hypothesis is rejected, confirming that the business is consistently profitable."
      ],
      "metadata": {
        "id": "lyzJhZ2K56yC"
      }
    },
    {
      "cell_type": "markdown",
      "source": [
        "Interpretation of P-Values for Hypothesis Tests\n",
        "P-values indicate whether the results are statistically significant, meaning they are unlikely to have occurred by random chance. A common significance threshold (alpha) is 0.05 (5%). If the P-value is below this threshold, the null hypothesis is rejected.\n",
        "\n",
        "One-Sample t-Test: Is the Average Monthly Profit Greater Than 10,000?\n",
        "P-Value: 5.56e-26 (extremely small)\n",
        "Interpretation: The probability of observing this data if the true average profit were 10,000 is nearly zero. Since the P-value is below 0.05, the null hypothesis is rejected.\n",
        "Conclusion: The average monthly profit is significantly greater than 10,000.\n",
        "Two-Sample t-Test: Are Revenue and Expenses Significantly Different?\n",
        "P-Value: 0.0 (highly significant)\n",
        "Interpretation: The likelihood that revenue and expenses are actually equal is extremely low. Since the P-value is below 0.05, the null hypothesis is rejected.\n",
        "Conclusion: Revenue and expenses are significantly different, with revenue being higher.\n",
        "One-Sample t-Test: Is the Business Consistently Profitable?\n",
        "P-Value: 0.0 (extremely small)\n",
        "Interpretation: The probability that the business's true average profit is zero is nearly nonexistent. Since the P-value is below 0.05, the null hypothesis is rejected.\n",
        "Conclusion: The business is consistently profitable.\n",
        "Final Summary\n",
        "All tests produced extremely small P-values, confirming statistical significance.\n",
        "In each case, the null hypothesis was rejected, demonstrating that:\n",
        "Profit is significantly greater than 10,000.\n",
        "Revenue is significantly higher than expenses.\n",
        "The business is consistently profitable"
      ],
      "metadata": {
        "id": "-Aej0v7w6zKU"
      }
    },
    {
      "cell_type": "code",
      "source": [
        "#2c\n",
        "import pandas as pd\n",
        "\n",
        "# Extract year from Date column\n",
        "df['Year'] = df['Date'].dt.year\n",
        "\n",
        "# Group by year and sum up revenue & profit\n",
        "yearly_data = df.groupby('Year')[['Revenue', 'Profit']].sum().reset_index()\n",
        "\n",
        "# Calculate year-over-year percentage growth\n",
        "yearly_data['Revenue Growth (%)'] = yearly_data['Revenue'].pct_change() * 100\n",
        "yearly_data['Profit Growth (%)'] = yearly_data['Profit'].pct_change() * 100\n",
        "\n",
        "# Display the final yearly growth data\n",
        "print(yearly_data)\n"
      ],
      "metadata": {
        "colab": {
          "base_uri": "https://localhost:8080/"
        },
        "id": "ZYRVd_yp-0r0",
        "outputId": "5f53d562-c5b5-4075-f20f-988d812e31f1"
      },
      "execution_count": null,
      "outputs": [
        {
          "output_type": "stream",
          "name": "stdout",
          "text": [
            "    Year   Revenue   Profit  Revenue Growth (%)  Profit Growth (%)\n",
            "0   2000  21977632  4583807                 NaN                NaN\n",
            "1   2001  21096388  4005856           -4.009731         -12.608537\n",
            "2   2002  21669485  4640653            2.716565          15.846725\n",
            "3   2003  21993063  4892870            1.493243           5.434946\n",
            "4   2004  22102449  4854704            0.497366          -0.780033\n",
            "5   2005  22305180  4598538            0.917233          -5.276655\n",
            "6   2006  20821100  3709826           -6.653522         -19.325968\n",
            "7   2007  22446138  5500939            7.804765          48.280243\n",
            "8   2008  21847798  4346369           -2.665670         -20.988598\n",
            "9   2009  21311410  3970276           -2.455112          -8.653039\n",
            "10  2010  21427193  4289651            0.543291           8.044151\n",
            "11  2011  22302602  4542862            4.085505           5.902835\n",
            "12  2012  22099356  4883486           -0.911311           7.498005\n",
            "13  2013  21378902  4771742           -3.260068          -2.288202\n",
            "14  2014  21446001  3770132            0.313856         -20.990448\n",
            "15  2015  21008898  3992033           -2.038156           5.885762\n",
            "16  2016  21395710  3843285            1.841182          -3.726122\n",
            "17  2017  22200181  5550237            3.759964          44.413880\n",
            "18  2018  22496218  4795384            1.333489         -13.600374\n",
            "19  2019  22066527  4397005           -1.910059          -8.307552\n",
            "20  2020  21266648  4195571           -3.624852          -4.581164\n",
            "21  2021  21380155  4939101            0.533732          17.721783\n",
            "22  2022  21271964  4834819           -0.506035          -2.111356\n",
            "23  2023  21834053  4286373            2.642394         -11.343672\n",
            "24  2024  22094953  4330438            1.194922           1.028025\n",
            "25  2025  21831478  3988415           -1.192467          -7.898116\n",
            "26  2026  22265273  5108731            1.987016          28.089254\n",
            "27  2027  21933008  4601404           -1.492301          -9.930587\n",
            "28  2028  22647521  4847921            3.257706           5.357430\n",
            "29  2029  21410045  4006484           -5.464068         -17.356657\n",
            "30  2030  22033512  4648276            2.912030          16.018833\n",
            "31  2031  22138003  5148321            0.474237          10.757644\n",
            "32  2032  21226288  4172839           -4.118325         -18.947575\n",
            "33  2033  21317296  3995706            0.428751          -4.244904\n",
            "34  2034  21472928  4334285            0.730074           8.473571\n",
            "35  2035  21537024  4095578            0.298497          -5.507414\n",
            "36  2036  21356080  4330595           -0.840153           5.738311\n",
            "37  2037  21277434  3798732           -0.368260         -12.281523\n",
            "38  2038  21301694  3969057            0.114018           4.483733\n",
            "39  2039  21990559  4837051            3.233851          21.869023\n",
            "40  2040  21586724  3983016           -1.836402         -17.656109\n",
            "41  2041  21693856  4892560            0.496287          22.835560\n",
            "42  2042  22211193  5111658            2.384717           4.478187\n",
            "43  2043  20915044  3559646           -5.835567         -30.362203\n",
            "44  2044  21624810  4131221            3.393567          16.057074\n",
            "45  2045  22052979  5140480            1.979990          24.430041\n",
            "46  2046  21966559  4616887           -0.391874         -10.185683\n",
            "47  2047  21835248  4482798           -0.597777          -2.904316\n",
            "48  2048  21542527  4374305           -1.340589          -2.420207\n",
            "49  2049  20956704  4163282           -2.719379          -4.824149\n",
            "50  2050  22177631  4645670            5.825950          11.586724\n",
            "51  2051  21827934  4095574           -1.576801         -11.841048\n",
            "52  2052  22356929  5415842            2.423477          32.236458\n",
            "53  2053  21696662  3920419           -2.953299         -27.612013\n",
            "54  2054  16747955  4231464          -22.808610           7.933973\n"
          ]
        }
      ]
    },
    {
      "cell_type": "code",
      "source": [
        "df['Year'] = df['Date'].dt.year\n",
        "yearly_revenue = df.groupby('Year')['Revenue'].sum()\n",
        "yearly_profit = df.groupby('Year')['Profit'].sum()\n",
        "\n",
        "revenue_growth = yearly_revenue.pct_change() * 100\n",
        "profit_growth = yearly_profit.pct_change() * 100\n",
        "\n",
        "print(\"Year-over-Year Revenue Growth:\", revenue_growth)\n",
        "print(\"Year-over-Year Profit Growth:\", profit_growth)\n"
      ],
      "metadata": {
        "colab": {
          "base_uri": "https://localhost:8080/"
        },
        "id": "kldNGU8IBqpq",
        "outputId": "eb272b9d-0a08-413c-ae05-e8c6f968d6c1"
      },
      "execution_count": null,
      "outputs": [
        {
          "output_type": "stream",
          "name": "stdout",
          "text": [
            "Year-over-Year Revenue Growth: Year\n",
            "2000          NaN\n",
            "2001    -4.009731\n",
            "2002     2.716565\n",
            "2003     1.493243\n",
            "2004     0.497366\n",
            "2005     0.917233\n",
            "2006    -6.653522\n",
            "2007     7.804765\n",
            "2008    -2.665670\n",
            "2009    -2.455112\n",
            "2010     0.543291\n",
            "2011     4.085505\n",
            "2012    -0.911311\n",
            "2013    -3.260068\n",
            "2014     0.313856\n",
            "2015    -2.038156\n",
            "2016     1.841182\n",
            "2017     3.759964\n",
            "2018     1.333489\n",
            "2019    -1.910059\n",
            "2020    -3.624852\n",
            "2021     0.533732\n",
            "2022    -0.506035\n",
            "2023     2.642394\n",
            "2024     1.194922\n",
            "2025    -1.192467\n",
            "2026     1.987016\n",
            "2027    -1.492301\n",
            "2028     3.257706\n",
            "2029    -5.464068\n",
            "2030     2.912030\n",
            "2031     0.474237\n",
            "2032    -4.118325\n",
            "2033     0.428751\n",
            "2034     0.730074\n",
            "2035     0.298497\n",
            "2036    -0.840153\n",
            "2037    -0.368260\n",
            "2038     0.114018\n",
            "2039     3.233851\n",
            "2040    -1.836402\n",
            "2041     0.496287\n",
            "2042     2.384717\n",
            "2043    -5.835567\n",
            "2044     3.393567\n",
            "2045     1.979990\n",
            "2046    -0.391874\n",
            "2047    -0.597777\n",
            "2048    -1.340589\n",
            "2049    -2.719379\n",
            "2050     5.825950\n",
            "2051    -1.576801\n",
            "2052     2.423477\n",
            "2053    -2.953299\n",
            "2054   -22.808610\n",
            "Name: Revenue, dtype: float64\n",
            "Year-over-Year Profit Growth: Year\n",
            "2000          NaN\n",
            "2001   -12.608537\n",
            "2002    15.846725\n",
            "2003     5.434946\n",
            "2004    -0.780033\n",
            "2005    -5.276655\n",
            "2006   -19.325968\n",
            "2007    48.280243\n",
            "2008   -20.988598\n",
            "2009    -8.653039\n",
            "2010     8.044151\n",
            "2011     5.902835\n",
            "2012     7.498005\n",
            "2013    -2.288202\n",
            "2014   -20.990448\n",
            "2015     5.885762\n",
            "2016    -3.726122\n",
            "2017    44.413880\n",
            "2018   -13.600374\n",
            "2019    -8.307552\n",
            "2020    -4.581164\n",
            "2021    17.721783\n",
            "2022    -2.111356\n",
            "2023   -11.343672\n",
            "2024     1.028025\n",
            "2025    -7.898116\n",
            "2026    28.089254\n",
            "2027    -9.930587\n",
            "2028     5.357430\n",
            "2029   -17.356657\n",
            "2030    16.018833\n",
            "2031    10.757644\n",
            "2032   -18.947575\n",
            "2033    -4.244904\n",
            "2034     8.473571\n",
            "2035    -5.507414\n",
            "2036     5.738311\n",
            "2037   -12.281523\n",
            "2038     4.483733\n",
            "2039    21.869023\n",
            "2040   -17.656109\n",
            "2041    22.835560\n",
            "2042     4.478187\n",
            "2043   -30.362203\n",
            "2044    16.057074\n",
            "2045    24.430041\n",
            "2046   -10.185683\n",
            "2047    -2.904316\n",
            "2048    -2.420207\n",
            "2049    -4.824149\n",
            "2050    11.586724\n",
            "2051   -11.841048\n",
            "2052    32.236458\n",
            "2053   -27.612013\n",
            "2054     7.933973\n",
            "Name: Profit, dtype: float64\n"
          ]
        }
      ]
    },
    {
      "cell_type": "code",
      "source": [
        "import matplotlib.pyplot as plt\n",
        "\n",
        "plt.figure(figsize=(10,5))\n",
        "plt.plot(yearly_data['Year'], yearly_data['Revenue Growth (%)'], marker='o', label='Revenue Growth')\n",
        "plt.plot(yearly_data['Year'], yearly_data['Profit Growth (%)'], marker='s', label='Profit Growth')\n",
        "plt.xlabel('Year')\n",
        "plt.ylabel('Growth (%)')\n",
        "plt.title('Year-over-Year Growth Analysis')\n",
        "plt.legend()\n",
        "plt.grid()\n",
        "plt.show()\n"
      ],
      "metadata": {
        "id": "eG9zsX80DN4D",
        "outputId": "22ca6ed7-a280-4851-9b51-5a7a691d37eb",
        "colab": {
          "base_uri": "https://localhost:8080/",
          "height": 487
        }
      },
      "execution_count": null,
      "outputs": [
        {
          "output_type": "display_data",
          "data": {
            "text/plain": [
              "<Figure size 1000x500 with 1 Axes>"
            ],
            "image/png": "[encoded data removed]"
          },
          "metadata": {}
        }
      ]
    },
    {
      "cell_type": "markdown",
      "source": [
        "Summary:\n",
        "Hypothesis Testing Results\n",
        "\n",
        "Monthly Profit Hypothesis: (State whether the average monthly profit was significantly greater than $10,000 based on p-value.)\n",
        "Revenue vs. Expenses: (Mention whether there was a significant difference and which one was higher.)\n",
        "Trend Analysis Insights\n",
        "\n",
        "Revenue & Profit Growth Trends: Highlight any notable year-over-year increases or declines.\n",
        "Significant Changes: Mention any sudden spikes or drops."
      ],
      "metadata": {
        "id": "1fLP-INDCVZo"
      }
    },
    {
      "cell_type": "markdown",
      "source": [
        "Conclusions:\n",
        "Revenue is relatively stable, with fluctuations year over year. Even when revenue grows, it's not always by a large amount.\n",
        "Profit is highly volatile, which could be due to external factors like economic conditions, operational inefficiencies, or market shifts.\n",
        "Exceptional years for profit are 2007, 2017, and 2026, which suggest some factors drove the business to perform much better during those periods."
      ],
      "metadata": {
        "id": "rTZGG2oq_dZK"
      }
    },
    {
      "cell_type": "code",
      "source": [
        "#2d]\n",
        "df[\"Profit Margin\"] = df[\"Profit\"] / df[\"Revenue\"]\n"
      ],
      "metadata": {
        "id": "tWGFsjlp_eb9"
      },
      "execution_count": null,
      "outputs": []
    },
    {
      "cell_type": "code",
      "source": [
        "df[\"Debt-to-Asset Ratio\"] = df[\"Debt\"] / df[\"Assets\"]\n"
      ],
      "metadata": {
        "id": "n4zHEVt5uhUx"
      },
      "execution_count": null,
      "outputs": []
    },
    {
      "cell_type": "code",
      "source": [
        "df[\"Current Ratio\"] = df[\"Assets\"] / df[\"Liabilities\"]\n"
      ],
      "metadata": {
        "id": "45paHwCaulaA"
      },
      "execution_count": null,
      "outputs": []
    },
    {
      "cell_type": "code",
      "source": [
        "print(df[[\"Profit Margin\", \"Debt-to-Asset Ratio\", \"Current Ratio\"]].head())\n"
      ],
      "metadata": {
        "colab": {
          "base_uri": "https://localhost:8080/"
        },
        "id": "tjUiuKzauocy",
        "outputId": "5b027f99-5835-4f09-f50b-25798f2d3d75"
      },
      "execution_count": null,
      "outputs": [
        {
          "output_type": "stream",
          "name": "stdout",
          "text": [
            "   Profit Margin  Debt-to-Asset Ratio  Current Ratio\n",
            "0       0.379872             0.739596       1.010402\n",
            "1       0.768371             0.105039       2.661725\n",
            "2       0.430745             0.298658       2.256338\n",
            "3      -0.355082             0.370356       1.679343\n",
            "4       0.793986             0.197731       3.931202\n"
          ]
        }
      ]
    },
    {
      "cell_type": "code",
      "source": [
        "df['Profit_Margin'] = df['Profit'] / df['Revenue']\n",
        "df['Debt_to_Asset_Ratio'] = df['Debt'] / df['Assets']\n",
        "df['Current_Ratio'] = df['Assets'] / df['Liabilities']\n",
        "\n",
        "print(df[['Profit_Margin', 'Debt_to_Asset_Ratio', 'Current_Ratio']].describe())\n",
        "\n"
      ],
      "metadata": {
        "colab": {
          "base_uri": "https://localhost:8080/"
        },
        "id": "7J7SAawjA_u2",
        "outputId": "8fe1afa8-1ac6-4ae9-8828-1f48e5b28341"
      },
      "execution_count": null,
      "outputs": [
        {
          "output_type": "stream",
          "name": "stdout",
          "text": [
            "       Profit_Margin  Debt_to_Asset_Ratio  Current_Ratio\n",
            "count   20000.000000         20000.000000   20000.000000\n",
            "mean        0.038437             0.330259       2.510174\n",
            "std         0.635362             0.170575       1.214758\n",
            "min        -2.916185             0.067132       0.724331\n",
            "25%        -0.214404             0.201096       1.618994\n",
            "50%         0.205749             0.300462       2.225907\n",
            "75%         0.486070             0.419184       3.110887\n",
            "max         0.848074             0.996622       7.417999\n"
          ]
        }
      ]
    },
    {
      "cell_type": "markdown",
      "source": [
        "Financial Ratios Interpretation\n",
        "\n",
        "Profit Margin: Compare against industry standards—does the company have a healthy profit margin?\n",
        "Debt-to-Asset Ratio: Assess financial stability—higher values may indicate financial risk.\n",
        "Current Ratio: Indicate liquidity—can the company meet short-term obligations?"
      ],
      "metadata": {
        "id": "gxn6uUjaCdeL"
      }
    },
    {
      "cell_type": "markdown",
      "source": [
        "Row 1 & 4: Strongest companies—high profit, low debt, and high liquidity.\n",
        "Row 3: Worst situation—losing money but has decent liquidity.\n",
        "Row 0: Risky—good profit but heavily dependent on debt.\n",
        "Row 2: Balanced—moderate profit and debt with good liquidity."
      ],
      "metadata": {
        "id": "vuxsmLWhFjWc"
      }
    },
    {
      "cell_type": "markdown",
      "source": [
        "In general, a healthy company should have a profit margin between 10% and 20%, a debt-to-asset ratio between 20% and 50%, and a current ratio between 1.5 and 3.0. Higher profit margins and lower debt are preferable"
      ],
      "metadata": {
        "id": "O_V9rnScGq9t"
      }
    },
    {
      "cell_type": "markdown",
      "source": [
        "Row 1 and Row 4 are the strongest companies. They have very high profit margins, low debt, and strong liquidity. These companies are financially healthy and well-positioned for growth.\n",
        "\n",
        "Row 3 is in trouble because it is losing money. However, it still has decent liquidity, meaning it can cover its short-term liabilities for now. The company needs to cut costs or increase revenue to survive.\n",
        "\n",
        "Row 0 is profitable but has a high debt-to-asset ratio, meaning it relies heavily on borrowed money. This is risky because too much debt can lead to financial instability.\n",
        "\n",
        "Row 2 is well-balanced, with a good profit margin, moderate debt, and strong liquidity. It is in a stable financial position."
      ],
      "metadata": {
        "id": "OgBF6oNFG6aB"
      }
    }
  ]
}